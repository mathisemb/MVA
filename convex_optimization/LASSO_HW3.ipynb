{
 "cells": [
  {
   "cell_type": "markdown",
   "metadata": {},
   "source": [
    "Student: **Mathis Embit**"
   ]
  },
  {
   "cell_type": "markdown",
   "metadata": {},
   "source": [
    "# Derive the dual problem of LASSO and format it as a general Quadratic Problem"
   ]
  },
  {
   "cell_type": "markdown",
   "metadata": {},
   "source": [
    "Let's compute the dual of the LASSO problem:\n",
    "\n",
    "$$\\begin{aligned} \n",
    "& \\min_w \\frac 12 \\|Xw-y\\|_2^2 + \\lambda \\|w\\|_1\\\\\n",
    "\\end{aligned}$$\n",
    "\n",
    "can be rewritten as\n",
    "\n",
    "$$\\begin{aligned} \n",
    "& \\min_{w,z} & \\frac{1}{2}\\|z\\|_2^2 + \\lambda \\|w\\|_1 \\\\\n",
    "& \\text{s.t.} & z = Xw-y\n",
    "\\end{aligned}$$\n",
    "\n",
    "The Lagrangian is $L(w,z,\\nu) = \\frac 12 \\|z\\|_2^2 + \\lambda \\|w\\|_1 + \\nu^T(Xw-y-z)$\n",
    "\n",
    "Then we have\n",
    "\n",
    "$\\begin{aligned} \n",
    "g(\\nu) = \\inf_{w,z} L(w,z,\\nu) \n",
    "&= \\inf_{w,z} \\left(\\frac 12 \\|z\\|_2^2 + \\lambda \\|w\\|_1 + \\nu^T(Xw-y-z) \\right) \\\\\n",
    "&= \\inf_{w,z} \\left(\\nu^TXw + \\lambda \\|w\\|_1 - \\nu^Tz + \\frac 12 \\|z\\|_2^2 - \\nu^Ty \\right) \\\\\n",
    "&= \\inf_w \\left( \\nu^TXw + \\lambda \\|w\\|_1 \\right) + \\inf_z \\left( \\frac 12 \\|z\\|_2^2 - \\nu^Tz\\right) - \\nu^Ty\\\\\n",
    "&= - \\sup_w \\left( \\left(-\\frac{1}{\\lambda}X^T\\nu\\right)^Tw - \\|w\\|_1 \\right) + \\inf_z \\left( \\frac 12 z^Tz - \\nu^Tz\\right) - \\nu^Ty\\\\\n",
    "&= - f^*\\left(-\\frac{1}{\\lambda}X^T\\nu\\right) - \\frac{1}{2} \\nu^T\\nu - \\nu^Ty\\\\\n",
    "\\end{aligned}$\n",
    "\n",
    "where $f^*$ is the conjugate of $\\|\\cdot\\|_1$ computed in HW2. Therefore\n",
    "\n",
    "$$\\begin{aligned}\n",
    "g(\\nu) & = \\begin{cases}\n",
    "- \\frac{\\|\\nu\\|_2^2}{2} - \\nu^Ty & \\text{ if } \\|-\\frac{1}{\\lambda}X^T\\nu\\|_{\\infty} \\leq 1 \\\\\n",
    "-\\infty & \\text{otherwise}\n",
    "\\end{cases} \\\\\n",
    "& = \\begin{cases}\n",
    "- \\frac{\\|\\nu\\|_2^2}{2} - \\nu^Ty & \\text{ if } \\|X^T\\nu\\|_{\\infty} \\leq \\lambda \\\\\n",
    "-\\infty & \\text{otherwise}\n",
    "\\end{cases}\n",
    "\\end{aligned}$$ \n",
    "\n",
    "Finally the LASSO dual is:\n",
    "\n",
    "$$\\begin{aligned} \n",
    "& \\max_{\\nu} & - \\frac{\\|\\nu\\|_2^2}{2} - \\nu^Ty  \\\\\n",
    "& \\text{s.t.} & \\|X^T\\nu\\|_{\\infty} \\leq \\lambda\n",
    "\\end{aligned}$$\n",
    "\n",
    "which is equvalent to\n",
    "\n",
    "$$\\begin{aligned} \n",
    "& \\min_{\\nu} & \\frac{\\|\\nu\\|_2^2}{2} + \\nu^Ty  \\\\\n",
    "& \\text{s.t.} & \\|X^T\\nu\\|_{\\infty} \\leq \\lambda\n",
    "\\end{aligned}$$\n",
    "\n",
    "We now need to format it as a general Quadratic Problem. We can alread write that $\\frac{\\|\\nu\\|_2^2}{2} + \\nu^Ty = \\nu^TQ\\nu + p^T\\nu$ where $Q = \\frac{1}{2}I$ and $p = y$. We now need to identify $\\|X^T\\nu\\|_{\\infty} \\leq \\lambda$ to $A\\nu \\preceq b$.\n",
    "\n",
    "$\\begin{aligned} \n",
    "\\|X^T\\nu\\|_{\\infty} \\leq \\lambda & \\iff \\forall i \\in \\{1,\\dots,n\\}, -\\lambda \\leq \\left( X^T\\nu \\right)_i \\leq \\lambda \\\\\n",
    "& \\iff \\forall i \\in \\{1,\\dots,n\\}, \\left( -X^T\\nu \\right)_i \\leq \\lambda \\text{ and } \\left( X^T\\nu \\right)_i \\leq \\lambda\\\\\n",
    "& \\iff \\begin{pmatrix}X^T \\\\ -X^T \\end{pmatrix}\\nu \\preceq \\lambda \\mathbb{1}_{2d}\n",
    "\\end{aligned}$\n",
    "\n",
    "Hence, $A = \\begin{pmatrix}X^T \\\\ -X^T \\end{pmatrix}$ and $b = \\lambda \\mathbb{1}_{2d}$\n",
    "\n",
    "**Conclusion**: the Quadratic Problem form of LASSO dual is\n",
    "$$\\boxed{\n",
    "    \\begin{aligned}\n",
    "    & \\min_{\\nu \\in \\mathbb{R}^n} & \\nu^TQ\\nu + p^T\\nu  \\\\\n",
    "    & \\text{s.t.} & A\\nu \\preceq b\n",
    "\\end{aligned}}$$\n",
    "\n",
    "where\n",
    "\n",
    "$$\\boxed{\n",
    "    \\begin{aligned}\n",
    "    & Q = \\frac{1}{2}I \\\\\n",
    "    & p = y \\\\\n",
    "    & A = \\begin{pmatrix}X^T \\\\ -X^T \\end{pmatrix} \\\\\n",
    "    & b = \\lambda \\mathbb{1}_{2d} \\\\\n",
    "\\end{aligned}}$$"
   ]
  },
  {
   "cell_type": "markdown",
   "metadata": {},
   "source": [
    "# Implement the barrier method to solve QP"
   ]
  },
  {
   "cell_type": "markdown",
   "metadata": {},
   "source": [
    "With the barrier method we want to minimize $f(\\nu) = t(\\nu^TQ\\nu + p^T\\nu) - \\sum_{i=1}^{2d} \\log \\left( -(A\\nu - b)_i \\right) = t(\\nu^TQ\\nu + p^T\\nu) - \\sum_{i=1}^{2d} \\log \\left((b-A\\nu)_i \\right)$"
   ]
  },
  {
   "cell_type": "markdown",
   "metadata": {},
   "source": [
    "First, let's write the gradient and the hessian of $f$:\n",
    "$$\\nabla f(\\nu) = t((Q+Q^T)\\nu + p) + \\sum_{i=1}^{2d} \\frac{1}{(b-A\\nu)_i}A_i^T$$\n",
    "\n",
    "$$Hf(\\nu) = 2tQ + \\sum_{i=1}^{2d} \\frac{1}{(b-A\\nu)_i^2}A_i^TA_i$$"
   ]
  },
  {
   "cell_type": "code",
   "execution_count": 1,
   "metadata": {},
   "outputs": [],
   "source": [
    "# The code only needs 2 imports\n",
    "import numpy as np # for computation\n",
    "import matplotlib.pyplot as plt # to plot graphs"
   ]
  },
  {
   "cell_type": "code",
   "execution_count": 2,
   "metadata": {},
   "outputs": [],
   "source": [
    "def objective(v, Q, p, A, b, t):\n",
    "    \"\"\"\n",
    "    Calculate the objective function value for the given point 'v'.\n",
    "    \n",
    "    Inputs:\n",
    "    - v: current point\n",
    "    - Q, p, A, b: fixed parameters\n",
    "    - t: parameter from barrier method\n",
    "\n",
    "    Outputs:\n",
    "    - f(v) = t(v^TQv + p^Tv) - sum(log(b-Av))\n",
    "    \"\"\"\n",
    "    \n",
    "    # Check feasibility\n",
    "    if not (A@v <= b).all():\n",
    "        raise Exception('v = {} is not feasible'.format(v))\n",
    "    \n",
    "    return t*(v.T@Q@v + p.T.dot(v)) - np.sum(np.log(b-A.dot(v)))\n",
    "\n",
    "def gradient(v, Q, p, A, b, t):\n",
    "    \"\"\"\n",
    "    Calculate the gradient of the objective function for the given point 'v'.\n",
    "\n",
    "    Inputs:\n",
    "    - v: current point\n",
    "    - Q, p, A, b: fixed parameters\n",
    "    - t: parameter from barrier method\n",
    "\n",
    "    Outputs:\n",
    "    - the gradient of f(v)\n",
    "    \"\"\"\n",
    "\n",
    "    return t*((Q+Q.T)@v + p) + A.T@(1/(b-A.dot(v)))\n",
    "\n",
    "def hessian(v, Q, p, A, b, t):\n",
    "    \"\"\"\n",
    "    Calculate the Hessian matrix of the objective function for the given point 'v'.\n",
    "    \n",
    "    Inputs:\n",
    "    - v: current point\n",
    "    - Q, p, A, b: fixed parameters\n",
    "    - t: parameter from barrier method\n",
    "\n",
    "    Outputs:\n",
    "    - the Hessian matrix of f(v)\n",
    "    \"\"\"\n",
    "\n",
    "    denom = b-A.dot(v)\n",
    "    res = 2*t*Q\n",
    "    for i in range(A.shape[0]): # i from 1 to 2d\n",
    "        res += 1/(denom[i])**2 * A[i,].reshape(-1,1).dot(A[i,].reshape(1,-1))\n",
    "    \n",
    "    return res"
   ]
  },
  {
   "cell_type": "markdown",
   "metadata": {},
   "source": [
    "**`centering_step` function which implements the Newton method to solve the centering step**"
   ]
  },
  {
   "cell_type": "code",
   "execution_count": 3,
   "metadata": {},
   "outputs": [],
   "source": [
    "def centering_step(Q,p,A,b,t,v0,eps,alpha=0.1,beta=0.75):\n",
    "    \"\"\"\n",
    "    Perform a Newton's method on the gradient of the objective function.\n",
    "\n",
    "    Inputs:\n",
    "    - Q, p, A, b: fixed parameters\n",
    "    - t: barrier method parameter\n",
    "    - v0: initial point\n",
    "    - eps: target precision\n",
    "    - alpha: backtracking line search parameter (default=0.1)\n",
    "    - beta: backtracking line search parameter (default=0.75)\n",
    "\n",
    "    Outputs:\n",
    "    - v: the optimized variable that minimizes the objective function\n",
    "    - nb_steps: the number of iterations taken to reach the target precision\n",
    "    \"\"\"\n",
    "\n",
    "    # Simplified notations\n",
    "    f = lambda v: objective(v, Q, p, A, b, t)\n",
    "    grad_f = lambda v: gradient(v, Q, p, A, b, t)\n",
    "    hess_f = lambda v: hessian(v, Q, p, A, b, t)\n",
    "\n",
    "    # Initialize variables\n",
    "    v = v0\n",
    "    nb_steps = 0\n",
    "    step = float('inf')\n",
    "\n",
    "    # Newton's method iterations\n",
    "    while np.linalg.norm(step) > eps:\n",
    "        # Compute Newton step\n",
    "        step = np.linalg.inv(hess_f(v))@grad_f(v)\n",
    "\n",
    "        # Backtracking line search\n",
    "        rate=1\n",
    "        while not(((A.dot(v-rate*step)-b)<=0).all()) or (f(v-rate*step) > f(v) - alpha*rate*grad_f(v).T.dot(step)):\n",
    "            # Check constraint and sufficient decrease condition\n",
    "            rate = rate*beta\n",
    "\n",
    "        # Update variable using the step and rate\n",
    "        v = v - rate*step\n",
    "        nb_steps += 1\n",
    "    \n",
    "    return v, nb_steps"
   ]
  },
  {
   "cell_type": "markdown",
   "metadata": {},
   "source": [
    "**`barr_method` function which implements the barrier method to solve QP**"
   ]
  },
  {
   "cell_type": "code",
   "execution_count": 4,
   "metadata": {},
   "outputs": [],
   "source": [
    "def barr_method(Q,p,A,b,v0,eps,mu):\n",
    "    \"\"\"\n",
    "    Perform the Barrier Method.\n",
    "\n",
    "    Inputs:\n",
    "    - Q, p, A, b: fixed parameters\n",
    "    - v0: a feasible point\n",
    "    - eps: a precision criterion\n",
    "    - mu: reduction factor for the barrier method\n",
    "\n",
    "    Outputs:\n",
    "    - iterates: list containing the sequence of variable iterates\n",
    "    - steps_index: list containing the cumulative number of iterations at each barrier method step\n",
    "    \"\"\"\n",
    "    \n",
    "    # Initialize variables\n",
    "    iterates = [v0]\n",
    "    t = 1\n",
    "    m = A.shape[0]\n",
    "    steps_index = [0]\n",
    "\n",
    "    # Barrier Method iterations\n",
    "    while m/t >= eps:\n",
    "        v0, nb_steps = centering_step(Q,p,A,b,t,v0,eps)\n",
    "        iterates.append(v0)\n",
    "        t = mu*t\n",
    "        steps_index.append(steps_index[-1]+nb_steps)\n",
    "    \n",
    "    return iterates, steps_index"
   ]
  },
  {
   "cell_type": "markdown",
   "metadata": {},
   "source": [
    "# Test your function"
   ]
  },
  {
   "cell_type": "markdown",
   "metadata": {},
   "source": [
    "It's now time to test the barrier method on some randomly generated data. Let's write a function that generates this test data."
   ]
  },
  {
   "cell_type": "code",
   "execution_count": 5,
   "metadata": {},
   "outputs": [],
   "source": [
    "def generate_data(n, d, beta_true, noise_std=1.0):\n",
    "    \"\"\"\n",
    "    Generate synthetic data for testing Lasso barrier method.\n",
    "\n",
    "    Inputs:\n",
    "    - n: number of observations\n",
    "    - d: number of features\n",
    "    - beta_true: true coefficient values\n",
    "    - noise_std: standard deviation of the noise (default=1.0)\n",
    "\n",
    "    Outputs:\n",
    "    - X: generated feature matrix\n",
    "    - y: generated labels\n",
    "    \"\"\"\n",
    "    np.random.seed(42) # set seed for reproducibility\n",
    "\n",
    "    # Generate random feature matrix X\n",
    "    X = np.random.randn(n, d)\n",
    "\n",
    "    # Generate labels y with noise\n",
    "    true_signal = X.dot(beta_true)\n",
    "    noise = noise_std * np.random.randn(n)\n",
    "    y = true_signal + noise\n",
    "\n",
    "    return X, y"
   ]
  },
  {
   "cell_type": "code",
   "execution_count": 6,
   "metadata": {},
   "outputs": [],
   "source": [
    "# Set parameters\n",
    "n = 100 # number of samples\n",
    "d = 10 # numer of features\n",
    "true_w = np.random.randn(d)\n",
    "noise_std = 1.0\n",
    "\n",
    "# Generate synthetic data\n",
    "X, y = generate_data(n, d, true_w, noise_std)"
   ]
  },
  {
   "cell_type": "code",
   "execution_count": 7,
   "metadata": {},
   "outputs": [],
   "source": [
    "# Parameters of the LASSO problem\n",
    "lmbd = 10\n",
    "mus = [2, 15, 50, 100, 500]\n",
    "Q = 0.5*np.eye(n)\n",
    "p = y.reshape((y.shape[0],1))\n",
    "A = np.vstack((X.T,-X.T))\n",
    "b = lmbd*np.ones((2*d,1))\n",
    "v0 = np.zeros((n,1))\n",
    "eps = 0.001"
   ]
  },
  {
   "cell_type": "code",
   "execution_count": 8,
   "metadata": {},
   "outputs": [
    {
     "data": {
      "image/png": "[encoded data removed]",
      "text/plain": [
       "<Figure size 800x400 with 1 Axes>"
      ]
     },
     "metadata": {},
     "output_type": "display_data"
    }
   ],
   "source": [
    "# Plot the results\n",
    "plt.figure(figsize=(8,4)) \n",
    "for mu in mus:\n",
    "    # Run Barrier Method to obtain variable iterates and cumulative steps\n",
    "    iterates, steps_index = barr_method(Q,p,A,b,v0,eps,mu)\n",
    "\n",
    "    # Best iterate based on the objective function value\n",
    "    best = iterates[0]\n",
    "    for v in iterates:\n",
    "        if v.T@Q@v + p.T.dot(v) <= best.T@Q@best + p.T.dot(best):\n",
    "            best = v\n",
    "    \n",
    "    # Calculate the difference in objective function value from the best iterate\n",
    "    diff_iterates = [((v.T@Q@v + p.T.dot(v)) - (best.T@Q@best + p.T.dot(best)))[0,0] for v in iterates]\n",
    "    plt.step(steps_index, diff_iterates, label=f'$\\mu$={mu}')\n",
    "\n",
    "# Plot the precision criterion as a horizontal line\n",
    "plt.axhline(y=eps, label=\"precision criterion\", linestyle='--')\n",
    "\n",
    "# Plot formatting\n",
    "plt.title(\"Barrier method precision depending on the number of Newton steps\")\n",
    "plt.semilogy() # semilog scale\n",
    "plt.legend()\n",
    "plt.xlabel('Newton steps')\n",
    "plt.ylabel(fr'$f(\\nu_t)-f^*$')\n",
    "plt.show()"
   ]
  },
  {
   "cell_type": "markdown",
   "metadata": {},
   "source": [
    "**What would be an appropriate choice for $\\mu$ ?**\n",
    "\n",
    "- We observe fewer barrier iterations when $\\mu$ is large, but each barrier iterations contains a lot of Newton iterations.\n",
    "- We observe more barrier iterations when $\\mu$ is small, but each barrier iterations contains less Newton iterations.\n",
    "\n",
    "To reach the wanted precision fast we can choose a large $\\mu$, but if we want to balance barrier and Newton iterations, we can choose a $\\mu$ around 20."
   ]
  }
 ],
 "metadata": {
  "kernelspec": {
   "display_name": "Python 3 (ipykernel)",
   "language": "python",
   "name": "python3"
  },
  "language_info": {
   "codemirror_mode": {
    "name": "ipython",
    "version": 3
   },
   "file_extension": ".py",
   "mimetype": "text/x-python",
   "name": "python",
   "nbconvert_exporter": "python",
   "pygments_lexer": "ipython3",
   "version": "3.11.2"
  }
 },
 "nbformat": 4,
 "nbformat_minor": 2
}
